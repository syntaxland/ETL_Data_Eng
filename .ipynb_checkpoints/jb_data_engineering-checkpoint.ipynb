{
 "cells": [
  {
   "cell_type": "markdown",
   "metadata": {},
   "source": [
    "# ETL Data Pipeline Modelling"
   ]
  },
  {
   "cell_type": "code",
   "execution_count": 1,
   "metadata": {},
   "outputs": [],
   "source": [
    "## Part 0"
   ]
  },
  {
   "cell_type": "markdown",
   "metadata": {},
   "source": [
    "## Part 1"
   ]
  },
  {
   "cell_type": "code",
   "execution_count": null,
   "metadata": {},
   "outputs": [],
   "source": [
    "# Imorting of modules.\n",
    "import pandas as pd\n",
    "import numpy as np \n",
    "import matplotlib as mpl\n",
    "import matplotlib.pyplot as plt\n",
    "import json \n",
    "import pprint \n",
    "from collections import Counter, defaultdict\n",
    "import re\n",
    "import seaborn as sns\n",
    "import os\n"
   ]
  },
  {
   "cell_type": "markdown",
   "metadata": {},
   "source": [
    "Asumming a Cleaned Data"
   ]
  },
  {
   "cell_type": "code",
   "execution_count": 2,
   "metadata": {},
   "outputs": [
    {
     "data": {
      "text/html": [
       "<div>\n",
       "<style scoped>\n",
       "    .dataframe tbody tr th:only-of-type {\n",
       "        vertical-align: middle;\n",
       "    }\n",
       "\n",
       "    .dataframe tbody tr th {\n",
       "        vertical-align: top;\n",
       "    }\n",
       "\n",
       "    .dataframe thead th {\n",
       "        text-align: right;\n",
       "    }\n",
       "</style>\n",
       "<table border=\"1\" class=\"dataframe\">\n",
       "  <thead>\n",
       "    <tr style=\"text-align: right;\">\n",
       "      <th></th>\n",
       "      <th>0.date</th>\n",
       "      <th>0.name</th>\n",
       "      <th>0.text.rating</th>\n",
       "      <th>0.text.status</th>\n",
       "      <th>1.date</th>\n",
       "      <th>1.name</th>\n",
       "      <th>1.text.rating</th>\n",
       "      <th>1.text.status</th>\n",
       "      <th>2.date</th>\n",
       "      <th>2.name</th>\n",
       "      <th>2.text.rating</th>\n",
       "      <th>2.text.status</th>\n",
       "    </tr>\n",
       "  </thead>\n",
       "  <tbody>\n",
       "    <tr>\n",
       "      <th>0</th>\n",
       "      <td>02-09-2022</td>\n",
       "      <td>Shom Gabriel</td>\n",
       "      <td>5 out of 5</td>\n",
       "      <td>Verified Purchase</td>\n",
       "      <td>02-09-2022</td>\n",
       "      <td>Mat Fedrick</td>\n",
       "      <td>5 out of 5</td>\n",
       "      <td>Verified Purchase</td>\n",
       "      <td>02-09-2022</td>\n",
       "      <td>Luk Keneth</td>\n",
       "      <td>5 out of 5</td>\n",
       "      <td>Verified Purchase</td>\n",
       "    </tr>\n",
       "  </tbody>\n",
       "</table>\n",
       "</div>"
      ],
      "text/plain": [
       "       0.date        0.name 0.text.rating      0.text.status      1.date  \\\n",
       "0  02-09-2022  Shom Gabriel    5 out of 5  Verified Purchase  02-09-2022   \n",
       "\n",
       "        1.name 1.text.rating      1.text.status      2.date      2.name  \\\n",
       "0  Mat Fedrick    5 out of 5  Verified Purchase  02-09-2022  Luk Keneth   \n",
       "\n",
       "  2.text.rating      2.text.status  \n",
       "0    5 out of 5  Verified Purchase  "
      ]
     },
     "execution_count": 2,
     "metadata": {},
     "output_type": "execute_result"
    }
   ],
   "source": [
    "jumia_data1 = {\n",
    "        \"0\": {\"date\": \"02-09-2022\",\n",
    "        \"name\": \"Shom Gabriel\",\n",
    "        \"text\": {\"rating\": \"5 out of 5\",\n",
    "                \"status\": \"Verified Purchase\"},      \n",
    "        },\n",
    "        \"1\": {\"date\": \"02-09-2022\",\n",
    "        \"name\": \"Mat Fedrick\",\n",
    "        \"text\": {\"rating\": \"5 out of 5\",\n",
    "                \"status\": \"Verified Purchase\"},      \n",
    "        },\n",
    "        \"2\": {\"date\": \"02-09-2022\",\n",
    "        \"name\": \"Luk Keneth\",\n",
    "        \"text\": {\"rating\": \"5 out of 5\",\n",
    "                \"status\": \"Verified Purchase\"},      \n",
    "        }   \n",
    "}\n",
    "\n",
    "pd.json_normalize(jumia_data1)"
   ]
  },
  {
   "cell_type": "code",
   "execution_count": 3,
   "metadata": {},
   "outputs": [
    {
     "data": {
      "text/html": [
       "<div>\n",
       "<style scoped>\n",
       "    .dataframe tbody tr th:only-of-type {\n",
       "        vertical-align: middle;\n",
       "    }\n",
       "\n",
       "    .dataframe tbody tr th {\n",
       "        vertical-align: top;\n",
       "    }\n",
       "\n",
       "    .dataframe thead th {\n",
       "        text-align: right;\n",
       "    }\n",
       "</style>\n",
       "<table border=\"1\" class=\"dataframe\">\n",
       "  <thead>\n",
       "    <tr style=\"text-align: right;\">\n",
       "      <th></th>\n",
       "      <th>id</th>\n",
       "      <th>date</th>\n",
       "      <th>name</th>\n",
       "      <th>text.rating</th>\n",
       "      <th>text.status</th>\n",
       "    </tr>\n",
       "  </thead>\n",
       "  <tbody>\n",
       "    <tr>\n",
       "      <th>0</th>\n",
       "      <td>0</td>\n",
       "      <td>02-09-2022</td>\n",
       "      <td>Shom Gabriel</td>\n",
       "      <td>5 out of 5</td>\n",
       "      <td>Verified Purchase</td>\n",
       "    </tr>\n",
       "    <tr>\n",
       "      <th>1</th>\n",
       "      <td>1</td>\n",
       "      <td>02-09-2022</td>\n",
       "      <td>Ben Jude</td>\n",
       "      <td>5 out of 5</td>\n",
       "      <td>Verified Purchase</td>\n",
       "    </tr>\n",
       "    <tr>\n",
       "      <th>2</th>\n",
       "      <td>2</td>\n",
       "      <td>02-09-2022</td>\n",
       "      <td>Ken Mattew</td>\n",
       "      <td>5 out of 5</td>\n",
       "      <td>Verified Purchase</td>\n",
       "    </tr>\n",
       "  </tbody>\n",
       "</table>\n",
       "</div>"
      ],
      "text/plain": [
       "  id        date          name text.rating        text.status\n",
       "0  0  02-09-2022  Shom Gabriel  5 out of 5  Verified Purchase\n",
       "1  1  02-09-2022      Ben Jude  5 out of 5  Verified Purchase\n",
       "2  2  02-09-2022    Ken Mattew  5 out of 5  Verified Purchase"
      ]
     },
     "execution_count": 3,
     "metadata": {},
     "output_type": "execute_result"
    }
   ],
   "source": [
    "jumia_data2 = [\n",
    "        {\n",
    "        \"id\": \"0\",\n",
    "        \"date\": \"02-09-2022\",\n",
    "        \"name\": \"Shom Gabriel\",\n",
    "        \"text\": {\"rating\": \"5 out of 5\",\n",
    "                \"status\": \"Verified Purchase\"},\n",
    "        },\n",
    "        {\n",
    "        \"id\": \"1\",\n",
    "        \"date\": \"02-09-2022\",\n",
    "        \"name\": \"Ben Jude\",\n",
    "        \"text\": {\"rating\": \"5 out of 5\",\n",
    "                \"status\": \"Verified Purchase\"\n",
    "                },\n",
    "        },\n",
    "        {\n",
    "        \"id\": \"2\",\n",
    "        \"date\": \"02-09-2022\",\n",
    "        \"name\": \"Ken Mattew\",\n",
    "        \"text\": {\"rating\": \"5 out of 5\",\n",
    "                \"status\": \"Verified Purchase\"},\n",
    "        }\n",
    "]\n",
    "\n",
    "pd.json_normalize(jumia_data2)"
   ]
  },
  {
   "cell_type": "markdown",
   "metadata": {},
   "source": [
    "## Part 2"
   ]
  },
  {
   "cell_type": "markdown",
   "metadata": {},
   "source": [
    "Loading the Given Data"
   ]
  },
  {
   "cell_type": "code",
   "execution_count": 12,
   "metadata": {},
   "outputs": [
    {
     "name": "stdout",
     "output_type": "stream",
     "text": [
      "Data loaded successfully!\n",
      "Length => 72\n",
      "Counter({2: 62, 1: 10})\n",
      "['5 out of 5Nice oneImpressive sound quality. The quick connectivity to both '\n",
      " \"the Bluetooth and USB is another plus, thanks but I hope it's durable; \"\n",
      " 'something to enjoy for a long time.08-08-2022by FelixVerified Purchase5 out '\n",
      " 'of 5ExcellentAll features are working perfectly08-08-2022by FemiVerified '\n",
      " 'Purchase4 out of 5I like itThe product is okay. It meets my '\n",
      " 'expectation.08-08-2022by KingsleyVerified Purchase5 out of 5Love itAs small '\n",
      " 'but big bass,wow,I am digging the vibe,lolz08-08-2022by AdeniyiVerified '\n",
      " \"Purchase4 out of 5It's niceIt's sound production is topnotch02-08-2022by \"\n",
      " 'FrancisVerified Purchase5 out of 5I love itI love everything about '\n",
      " 'it02-08-2022by AdebisiVerified Purchase5 out of 5Correct OneI love '\n",
      " 'it01-08-2022by AliyuVerified Purchase5 out of 5Nice productNice product but '\n",
      " 'no remote control01-08-2022by EdirinVerified Purchase5 out of 5I like itIs '\n",
      " 'awesome30-07-2022by DozlinkVerified Purchase4 out of 5Great DealIt is a nice '\n",
      " 'product. It is exactly as it was described...30-07-2022by RidwanVerified '\n",
      " 'Purchase']\n"
     ]
    }
   ],
   "source": [
    "def file_loader():\n",
    "    \"\"\"Loading data.\"\"\"\n",
    "    uncleaned_jumia_data = \"jumia_search_output.json\"\n",
    "    with open(uncleaned_jumia_data, 'r') as f:\n",
    "        file_loader.loaded_uncleaned_jumia_data = json.load(f)\n",
    "        # print(loaded_uncleaned_jumia_data)\n",
    "        print(\"Data loaded successfully!\")\n",
    "\n",
    "    # Exploring the loaded uncleaned data...\n",
    "    print('Length =>', len(file_loader.loaded_uncleaned_jumia_data))\n",
    "    print(Counter([len(item) for item in file_loader.loaded_uncleaned_jumia_data]))\n",
    "    pprint.pprint(file_loader.loaded_uncleaned_jumia_data['2'])\n",
    "\n",
    "\n",
    "file_loader()"
   ]
  },
  {
   "cell_type": "markdown",
   "metadata": {},
   "source": [
    "Exploring Loaded Uncleaned Data (func)"
   ]
  },
  {
   "cell_type": "code",
   "execution_count": 13,
   "metadata": {},
   "outputs": [
    {
     "name": "stdout",
     "output_type": "stream",
     "text": [
      "Length => 72\n",
      "Counter({2: 62, 1: 10})\n",
      "['5 out of 5I like itThis product is superb, the sound is great11-07-2021by '\n",
      " 'AlfredVerified Purchase4 out of 5Cool productNice sound output and cheap '\n",
      " \"too.11-07-2021by B.JayVerified Purchase3 out of 5Fair EnoughIt's got an \"\n",
      " 'Edifying Audio quality, for persons who enjoys indoor low volumed '\n",
      " 'music11-07-2021by IjeomaVerified Purchase5 out of 5Good EnoughGreat quality. '\n",
      " 'I like it.10-07-2021by EdetVerified Purchase5 out of 5Great Sound '\n",
      " 'outputSound quality is superb, the Bass is thundering...Nice product. Using '\n",
      " 'it for my TV. This is theatre in its own.09-07-2021by BRENVerified Purchase5 '\n",
      " 'out of 5Loved itGood ????08-07-2021by DavidVerified Purchase5 out of 5I like '\n",
      " 'itGood product07-07-2021by OdunayoVerified Purchase4 out of 5like itthe '\n",
      " 'sound production quality is very good04-07-2021by UGWUVerified Purchase5 out '\n",
      " \"of 5I love itIt's a really cool sound system.02-07-2021by AyomideVerified \"\n",
      " \"Purchase5 out of 5I like itIt's a good one, I love it01-07-2021by \"\n",
      " 'HammedVerified Purchase']\n"
     ]
    }
   ],
   "source": [
    "def data_stat():\n",
    "    \"\"\"\n",
    "    Exploring the loaded uncleaned data.\n",
    "    \"\"\"\n",
    "    print('Length =>', len(file_loader.loaded_uncleaned_jumia_data))\n",
    "    print(Counter([len(item) for item in file_loader.loaded_uncleaned_jumia_data]))\n",
    "    pprint.pprint(file_loader.loaded_uncleaned_jumia_data['70'])\n",
    "\n",
    "    \n",
    "data_stat()"
   ]
  },
  {
   "cell_type": "markdown",
   "metadata": {},
   "source": [
    "Data Cleaner Func"
   ]
  },
  {
   "cell_type": "code",
   "execution_count": 5,
   "metadata": {},
   "outputs": [
    {
     "name": "stdout",
     "output_type": "stream",
     "text": [
      "Data successfully cleaned!\n"
     ]
    }
   ],
   "source": [
    "def data_clearner():\n",
    "    \"\"\"Data clearner script written by @jondebosco.\"\"\"\n",
    "    # Adding a space before and after date.\n",
    "    date_data_cleaner = re.sub(r'(\\d\\d[-/]\\d\\d[-/]\\d\\d\\d\\d)', r' \\1 ',\n",
    "     str(file_loader.loaded_uncleaned_jumia_data))\n",
    "    # Adding a space before capital letters.\n",
    "    space_capitalized = re.sub(r'\\B([A-Z])', r' \\1', date_data_cleaner)\n",
    "    # space_capitalized = re.sub(r'(?<=\\w)([A-Z])', r' \\1', date_data_cleaner) \n",
    "    # Adding a space after a full-stop but escaping words like U.S, W.H.O.\n",
    "    space_after_period = re.sub(r'((?<![A-Z])\\.(?!\\s))', r'\\1 ', space_capitalized)\n",
    "    # Adding a space after an exclamation mark.\n",
    "    space_after_exclamation = re.sub(r'(\\!+(?=\\S))', '! ', space_after_period)\n",
    "    # Adding a space after a comma.\n",
    "    space_after_comma = re.sub(r'(\\,(?=\\S))', ', ', space_after_exclamation)\n",
    "    # Adding a space after a question mark.\n",
    "    space_after_questionmark = re.sub(r'(\\?+(?=\\S))', '? ', space_after_comma)\n",
    "    # Adding a space (if not) before and after a pattern: \"5 out of 5\".\n",
    "    pattern_space_add = re.sub(r'(\\d \\w+ \\w+ \\d)', r' \\1', space_after_questionmark)\n",
    "    # Striping the data off unwanted whitespaces.\n",
    "    data_clearner.cleaned_jumia_data = pattern_space_add.strip()\n",
    "    # Printing the data.\n",
    "    # print(data_clearner.cleaned_jumia_data)\n",
    "    print(\"Data successfully cleaned!\")\n",
    "\n",
    "\n",
    "data_clearner()"
   ]
  },
  {
   "cell_type": "markdown",
   "metadata": {},
   "source": [
    "Dumping JSON File"
   ]
  },
  {
   "cell_type": "code",
   "execution_count": 6,
   "metadata": {},
   "outputs": [
    {
     "name": "stdout",
     "output_type": "stream",
     "text": [
      "File successfully saved!\n"
     ]
    }
   ],
   "source": [
    "def file_saver():\n",
    "    \"\"\"Saving the file.\"\"\"\n",
    "    save_cleaned_jumia_data = open(\"cleaned_jumia_data2.json\", \"w\")\n",
    "    json.dump(eval(data_clearner.cleaned_jumia_data), save_cleaned_jumia_data)\n",
    "    print(\"File successfully saved!\")\n",
    "\n",
    "\n",
    "file_saver()"
   ]
  },
  {
   "cell_type": "markdown",
   "metadata": {},
   "source": [
    "Loading Saved Data"
   ]
  },
  {
   "cell_type": "code",
   "execution_count": 2,
   "metadata": {},
   "outputs": [
    {
     "name": "stdout",
     "output_type": "stream",
     "text": [
      "File loaded successfully!\n"
     ]
    }
   ],
   "source": [
    "def saved_file_loader():\n",
    "    \"\"\"Loading Cleaned Saved Data\"\"\"\n",
    "    cleaned_jumia_data = \"cleaned_jumia_data1.json\"\n",
    "    with open(cleaned_jumia_data, 'r') as f:\n",
    "        saved_file_loader.loaded_cleaned_jumia_data = json.load(f)\n",
    "        print(\"File loaded successfully!\")\n",
    "\n",
    "\n",
    "saved_file_loader()"
   ]
  },
  {
   "cell_type": "markdown",
   "metadata": {},
   "source": [
    "Exploring the Cleaned Data"
   ]
  },
  {
   "cell_type": "code",
   "execution_count": 9,
   "metadata": {},
   "outputs": [
    {
     "data": {
      "text/plain": [
       "[\" 5 out of 5  Nice one Impressive sound quality. The quick connectivity to both the Bluetooth and U SB is another plus, thanks but I hope it's durable; something to enjoy for a long time. 08-08-2022 by Felix Verified Purchase 5 out of 5  Excellent All features are working perfectly 08-08-2022 by Femi Verified Purchase 4 out of 5  I like it The product is okay. It meets my expectation. 08-08-2022 by Kingsley Verified Purchase 5 out of 5  Love it As small but big bass, wow, I am digging the vibe, lolz 08-08-2022 by Adeniyi Verified Purchase 4 out of 5  It's nice It's sound production is topnotch 02-08-2022 by Francis Verified Purchase 5 out of 5  I love it I love everything about it 02-08-2022 by Adebisi Verified Purchase 5 out of 5  Correct One I love it 01-08-2022 by Aliyu Verified Purchase 5 out of 5  Nice product Nice product but no remote control 01-08-2022 by Edirin Verified Purchase 5 out of 5  I like it Is awesome 30-07-2022 by Dozlink Verified Purchase 4 out of 5  Great Deal It is a nice product. It is exactly as it was described. . . 30-07-2022 by Ridwan Verified Purchase\"]"
      ]
     },
     "execution_count": 9,
     "metadata": {},
     "output_type": "execute_result"
    }
   ],
   "source": [
    "saved_file_loader.loaded_cleaned_jumia_data['2']"
   ]
  },
  {
   "cell_type": "markdown",
   "metadata": {},
   "source": [
    "Loading Data into DataFrame"
   ]
  },
  {
   "cell_type": "code",
   "execution_count": 10,
   "metadata": {},
   "outputs": [
    {
     "data": {
      "text/html": [
       "<div>\n",
       "<style scoped>\n",
       "    .dataframe tbody tr th:only-of-type {\n",
       "        vertical-align: middle;\n",
       "    }\n",
       "\n",
       "    .dataframe tbody tr th {\n",
       "        vertical-align: top;\n",
       "    }\n",
       "\n",
       "    .dataframe thead th {\n",
       "        text-align: right;\n",
       "    }\n",
       "</style>\n",
       "<table border=\"1\" class=\"dataframe\">\n",
       "  <thead>\n",
       "    <tr style=\"text-align: right;\">\n",
       "      <th></th>\n",
       "      <th>0</th>\n",
       "      <th>1</th>\n",
       "      <th>2</th>\n",
       "      <th>3</th>\n",
       "      <th>4</th>\n",
       "      <th>5</th>\n",
       "      <th>6</th>\n",
       "      <th>7</th>\n",
       "      <th>8</th>\n",
       "      <th>9</th>\n",
       "      <th>...</th>\n",
       "      <th>62</th>\n",
       "      <th>63</th>\n",
       "      <th>64</th>\n",
       "      <th>65</th>\n",
       "      <th>66</th>\n",
       "      <th>67</th>\n",
       "      <th>68</th>\n",
       "      <th>69</th>\n",
       "      <th>70</th>\n",
       "      <th>71</th>\n",
       "    </tr>\n",
       "  </thead>\n",
       "  <tbody>\n",
       "    <tr>\n",
       "      <th>0</th>\n",
       "      <td>[ 5 out of 5  I like it Is so good 02-09-2022 ...</td>\n",
       "      <td>[ 5 out of 5  I love it Am giving it 5 star ⭐️...</td>\n",
       "      <td>[ 5 out of 5  Nice one Impressive sound qualit...</td>\n",
       "      <td>[ 5 out of 5  Cool The sound is really great. ...</td>\n",
       "      <td>[ 5 out of 5  Amazing sound at a budget price ...</td>\n",
       "      <td>[ 5 out of 5  My best buy Loving and enjoying ...</td>\n",
       "      <td>[ 5 out of 5  Fantastic Very wonderful product...</td>\n",
       "      <td>[ 5 out of 5 edifier Is so lovely i really lik...</td>\n",
       "      <td>[ 5 out of 5  Very portable Portable and very ...</td>\n",
       "      <td>[ 5 out of 5  Awesome Perfecto 16-06-2022 by D...</td>\n",
       "      <td>...</td>\n",
       "      <td>[ 5 out of 5  I like it I love it . Great  pur...</td>\n",
       "      <td>[ 4 out of 5 very cool I wish it came with a r...</td>\n",
       "      <td>[ 5 out of 5  I like it Excellent 11-09-2021 b...</td>\n",
       "      <td>[ 5 out of 5  I like it It's original and the ...</td>\n",
       "      <td>[ 5 out of 5  I love it It’s a good product, t...</td>\n",
       "      <td>[ 5 out of 5  Sound quality Increase your woof...</td>\n",
       "      <td>[ 5 out of 5  Value for money U can’t ask for ...</td>\n",
       "      <td>[ 4 out of 5  Not Bad The sound quality is fai...</td>\n",
       "      <td>[ 5 out of 5  I like it This product is superb...</td>\n",
       "      <td>[ 5 out of 5  AW ES OM EGreat sound, and easy ...</td>\n",
       "    </tr>\n",
       "  </tbody>\n",
       "</table>\n",
       "<p>1 rows × 72 columns</p>\n",
       "</div>"
      ],
      "text/plain": [
       "                                                   0  \\\n",
       "0  [ 5 out of 5  I like it Is so good 02-09-2022 ...   \n",
       "\n",
       "                                                   1  \\\n",
       "0  [ 5 out of 5  I love it Am giving it 5 star ⭐️...   \n",
       "\n",
       "                                                   2  \\\n",
       "0  [ 5 out of 5  Nice one Impressive sound qualit...   \n",
       "\n",
       "                                                   3  \\\n",
       "0  [ 5 out of 5  Cool The sound is really great. ...   \n",
       "\n",
       "                                                   4  \\\n",
       "0  [ 5 out of 5  Amazing sound at a budget price ...   \n",
       "\n",
       "                                                   5  \\\n",
       "0  [ 5 out of 5  My best buy Loving and enjoying ...   \n",
       "\n",
       "                                                   6  \\\n",
       "0  [ 5 out of 5  Fantastic Very wonderful product...   \n",
       "\n",
       "                                                   7  \\\n",
       "0  [ 5 out of 5 edifier Is so lovely i really lik...   \n",
       "\n",
       "                                                   8  \\\n",
       "0  [ 5 out of 5  Very portable Portable and very ...   \n",
       "\n",
       "                                                   9  ...  \\\n",
       "0  [ 5 out of 5  Awesome Perfecto 16-06-2022 by D...  ...   \n",
       "\n",
       "                                                  62  \\\n",
       "0  [ 5 out of 5  I like it I love it . Great  pur...   \n",
       "\n",
       "                                                  63  \\\n",
       "0  [ 4 out of 5 very cool I wish it came with a r...   \n",
       "\n",
       "                                                  64  \\\n",
       "0  [ 5 out of 5  I like it Excellent 11-09-2021 b...   \n",
       "\n",
       "                                                  65  \\\n",
       "0  [ 5 out of 5  I like it It's original and the ...   \n",
       "\n",
       "                                                  66  \\\n",
       "0  [ 5 out of 5  I love it It’s a good product, t...   \n",
       "\n",
       "                                                  67  \\\n",
       "0  [ 5 out of 5  Sound quality Increase your woof...   \n",
       "\n",
       "                                                  68  \\\n",
       "0  [ 5 out of 5  Value for money U can’t ask for ...   \n",
       "\n",
       "                                                  69  \\\n",
       "0  [ 4 out of 5  Not Bad The sound quality is fai...   \n",
       "\n",
       "                                                  70  \\\n",
       "0  [ 5 out of 5  I like it This product is superb...   \n",
       "\n",
       "                                                  71  \n",
       "0  [ 5 out of 5  AW ES OM EGreat sound, and easy ...  \n",
       "\n",
       "[1 rows x 72 columns]"
      ]
     },
     "execution_count": 10,
     "metadata": {},
     "output_type": "execute_result"
    }
   ],
   "source": [
    "pd.json_normalize(saved_file_loader.loaded_cleaned_jumia_data, max_level=1)"
   ]
  },
  {
   "cell_type": "markdown",
   "metadata": {},
   "source": [
    "## Part 3"
   ]
  },
  {
   "cell_type": "markdown",
   "metadata": {},
   "source": [
    "Extracting Cleaned Target Data"
   ]
  },
  {
   "cell_type": "code",
   "execution_count": 3,
   "metadata": {},
   "outputs": [
    {
     "name": "stdout",
     "output_type": "stream",
     "text": [
      "Data extracted successfully!\n"
     ]
    }
   ],
   "source": [
    "def data_extract_to_dict():\n",
    "    \"\"\"\n",
    "    Data extraction to dict script by @jondebosco.\n",
    "    \"\"\"\n",
    "    data_extract_to_dict.date = re.findall(r'(\\d\\d[-/]\\d\\d[-/]\\d\\d\\d\\d)',\n",
    "     str(saved_file_loader.loaded_cleaned_jumia_data))\n",
    "    data_extract_to_dict.name = re.findall(r'(\\w+) (?=Verified Purchase)', \n",
    "    str(saved_file_loader.loaded_cleaned_jumia_data))\n",
    "    data_extract_to_dict.status = re.findall(r'(Verified Purchase)',\n",
    "     str(saved_file_loader.loaded_cleaned_jumia_data))\n",
    "    data_extract_to_dict.rating = re.findall(r'(\\d \\w+ \\w+ \\d)',\n",
    "     str(saved_file_loader.loaded_cleaned_jumia_data))\n",
    "    # print('Name:', name)\n",
    "    # print('\\nDate:', date)\n",
    "    # print('\\nStatus:', status)\n",
    "    # print('\\nRating:', rating)\n",
    "    print(\"Data extracted successfully!\")\n",
    "\n",
    "\n",
    "data_extract_to_dict()"
   ]
  },
  {
   "cell_type": "markdown",
   "metadata": {},
   "source": [
    "Optional Dict Data Zipping"
   ]
  },
  {
   "cell_type": "code",
   "execution_count": 13,
   "metadata": {},
   "outputs": [],
   "source": [
    "def dict_zipper():\n",
    "    \"\"\"Dict nesting program.\"\"\"\n",
    "    jumia_dict_data = [[{a: {b, c, d}}] for (a, b, c, d) in zip(data_extract_to_dict.name,\n",
    "     data_extract_to_dict.date, data_extract_to_dict.rating, data_extract_to_dict.status)]\n",
    "    # print(jumia_dict_data)\n",
    "\n",
    "\n",
    "dict_zipper()"
   ]
  },
  {
   "cell_type": "markdown",
   "metadata": {},
   "source": [
    "Loading Extracted Data into DataFrame"
   ]
  },
  {
   "cell_type": "code",
   "execution_count": 4,
   "metadata": {},
   "outputs": [
    {
     "data": {
      "text/html": [
       "<div>\n",
       "<style scoped>\n",
       "    .dataframe tbody tr th:only-of-type {\n",
       "        vertical-align: middle;\n",
       "    }\n",
       "\n",
       "    .dataframe tbody tr th {\n",
       "        vertical-align: top;\n",
       "    }\n",
       "\n",
       "    .dataframe thead th {\n",
       "        text-align: right;\n",
       "    }\n",
       "</style>\n",
       "<table border=\"1\" class=\"dataframe\">\n",
       "  <thead>\n",
       "    <tr style=\"text-align: right;\">\n",
       "      <th></th>\n",
       "      <th>Name</th>\n",
       "      <th>Date</th>\n",
       "      <th>Rating</th>\n",
       "      <th>Status</th>\n",
       "    </tr>\n",
       "  </thead>\n",
       "  <tbody>\n",
       "    <tr>\n",
       "      <th>0</th>\n",
       "      <td>Gabriel</td>\n",
       "      <td>02-09-2022</td>\n",
       "      <td>5 out of 5</td>\n",
       "      <td>Verified Purchase</td>\n",
       "    </tr>\n",
       "    <tr>\n",
       "      <th>1</th>\n",
       "      <td>Olaoluwa</td>\n",
       "      <td>01-09-2022</td>\n",
       "      <td>5 out of 5</td>\n",
       "      <td>Verified Purchase</td>\n",
       "    </tr>\n",
       "    <tr>\n",
       "      <th>2</th>\n",
       "      <td>Alasa</td>\n",
       "      <td>01-09-2022</td>\n",
       "      <td>4 out of 5</td>\n",
       "      <td>Verified Purchase</td>\n",
       "    </tr>\n",
       "    <tr>\n",
       "      <th>3</th>\n",
       "      <td>EL</td>\n",
       "      <td>31-08-2022</td>\n",
       "      <td>5 out of 5</td>\n",
       "      <td>Verified Purchase</td>\n",
       "    </tr>\n",
       "    <tr>\n",
       "      <th>4</th>\n",
       "      <td>Michael</td>\n",
       "      <td>29-08-2022</td>\n",
       "      <td>4 out of 5</td>\n",
       "      <td>Verified Purchase</td>\n",
       "    </tr>\n",
       "    <tr>\n",
       "      <th>...</th>\n",
       "      <td>...</td>\n",
       "      <td>...</td>\n",
       "      <td>...</td>\n",
       "      <td>...</td>\n",
       "    </tr>\n",
       "    <tr>\n",
       "      <th>713</th>\n",
       "      <td>None</td>\n",
       "      <td>None</td>\n",
       "      <td>5 out of 5</td>\n",
       "      <td>Verified Purchase</td>\n",
       "    </tr>\n",
       "    <tr>\n",
       "      <th>714</th>\n",
       "      <td>None</td>\n",
       "      <td>None</td>\n",
       "      <td>5 out of 5</td>\n",
       "      <td>None</td>\n",
       "    </tr>\n",
       "    <tr>\n",
       "      <th>715</th>\n",
       "      <td>None</td>\n",
       "      <td>None</td>\n",
       "      <td>5 out of 5</td>\n",
       "      <td>None</td>\n",
       "    </tr>\n",
       "    <tr>\n",
       "      <th>716</th>\n",
       "      <td>None</td>\n",
       "      <td>None</td>\n",
       "      <td>5 out of 5</td>\n",
       "      <td>None</td>\n",
       "    </tr>\n",
       "    <tr>\n",
       "      <th>717</th>\n",
       "      <td>None</td>\n",
       "      <td>None</td>\n",
       "      <td>4 out of 5</td>\n",
       "      <td>None</td>\n",
       "    </tr>\n",
       "  </tbody>\n",
       "</table>\n",
       "<p>718 rows × 4 columns</p>\n",
       "</div>"
      ],
      "text/plain": [
       "         Name        Date      Rating             Status\n",
       "0     Gabriel  02-09-2022  5 out of 5  Verified Purchase\n",
       "1    Olaoluwa  01-09-2022  5 out of 5  Verified Purchase\n",
       "2       Alasa  01-09-2022  4 out of 5  Verified Purchase\n",
       "3          EL  31-08-2022  5 out of 5  Verified Purchase\n",
       "4     Michael  29-08-2022  4 out of 5  Verified Purchase\n",
       "..        ...         ...         ...                ...\n",
       "713      None        None  5 out of 5  Verified Purchase\n",
       "714      None        None  5 out of 5               None\n",
       "715      None        None  5 out of 5               None\n",
       "716      None        None  5 out of 5               None\n",
       "717      None        None  4 out of 5               None\n",
       "\n",
       "[718 rows x 4 columns]"
      ]
     },
     "execution_count": 4,
     "metadata": {},
     "output_type": "execute_result"
    }
   ],
   "source": [
    "jumia_data = {\n",
    "        'Name' : data_extract_to_dict.name,\n",
    "        'Date' : data_extract_to_dict.date,\n",
    "        'Rating' : data_extract_to_dict.rating,\n",
    "        'Status' : data_extract_to_dict.status\n",
    "        }\n",
    "jumia_data_df = pd.DataFrame.from_dict(jumia_data, orient='index')\n",
    "jumia_data_df2 = jumia_data_df.transpose()\n",
    "jumia_data_df2"
   ]
  },
  {
   "cell_type": "code",
   "execution_count": 10,
   "metadata": {},
   "outputs": [
    {
     "name": "stdout",
     "output_type": "stream",
     "text": [
      "<class 'pandas.core.frame.DataFrame'>\n",
      "RangeIndex: 718 entries, 0 to 717\n",
      "Data columns (total 4 columns):\n",
      " #   Column  Non-Null Count  Dtype \n",
      "---  ------  --------------  ----- \n",
      " 0   Name    636 non-null    object\n",
      " 1   Date    711 non-null    object\n",
      " 2   Rating  718 non-null    object\n",
      " 3   Status  714 non-null    object\n",
      "dtypes: object(4)\n",
      "memory usage: 22.6+ KB\n"
     ]
    }
   ],
   "source": [
    "jumia_data_df2.info()"
   ]
  },
  {
   "cell_type": "markdown",
   "metadata": {},
   "source": [
    "Droping Rows with 'None' Values (Optional)"
   ]
  },
  {
   "cell_type": "code",
   "execution_count": 5,
   "metadata": {},
   "outputs": [
    {
     "data": {
      "text/html": [
       "<div>\n",
       "<style scoped>\n",
       "    .dataframe tbody tr th:only-of-type {\n",
       "        vertical-align: middle;\n",
       "    }\n",
       "\n",
       "    .dataframe tbody tr th {\n",
       "        vertical-align: top;\n",
       "    }\n",
       "\n",
       "    .dataframe thead th {\n",
       "        text-align: right;\n",
       "    }\n",
       "</style>\n",
       "<table border=\"1\" class=\"dataframe\">\n",
       "  <thead>\n",
       "    <tr style=\"text-align: right;\">\n",
       "      <th></th>\n",
       "      <th>Name</th>\n",
       "      <th>Date</th>\n",
       "      <th>Rating</th>\n",
       "      <th>Status</th>\n",
       "    </tr>\n",
       "  </thead>\n",
       "  <tbody>\n",
       "    <tr>\n",
       "      <th>0</th>\n",
       "      <td>Gabriel</td>\n",
       "      <td>02-09-2022</td>\n",
       "      <td>5 out of 5</td>\n",
       "      <td>Verified Purchase</td>\n",
       "    </tr>\n",
       "    <tr>\n",
       "      <th>1</th>\n",
       "      <td>Olaoluwa</td>\n",
       "      <td>01-09-2022</td>\n",
       "      <td>5 out of 5</td>\n",
       "      <td>Verified Purchase</td>\n",
       "    </tr>\n",
       "    <tr>\n",
       "      <th>2</th>\n",
       "      <td>Alasa</td>\n",
       "      <td>01-09-2022</td>\n",
       "      <td>4 out of 5</td>\n",
       "      <td>Verified Purchase</td>\n",
       "    </tr>\n",
       "    <tr>\n",
       "      <th>3</th>\n",
       "      <td>EL</td>\n",
       "      <td>31-08-2022</td>\n",
       "      <td>5 out of 5</td>\n",
       "      <td>Verified Purchase</td>\n",
       "    </tr>\n",
       "    <tr>\n",
       "      <th>4</th>\n",
       "      <td>Michael</td>\n",
       "      <td>29-08-2022</td>\n",
       "      <td>4 out of 5</td>\n",
       "      <td>Verified Purchase</td>\n",
       "    </tr>\n",
       "    <tr>\n",
       "      <th>...</th>\n",
       "      <td>...</td>\n",
       "      <td>...</td>\n",
       "      <td>...</td>\n",
       "      <td>...</td>\n",
       "    </tr>\n",
       "    <tr>\n",
       "      <th>631</th>\n",
       "      <td>Odunayo</td>\n",
       "      <td>13-09-2021</td>\n",
       "      <td>3 out of 5</td>\n",
       "      <td>Verified Purchase</td>\n",
       "    </tr>\n",
       "    <tr>\n",
       "      <th>632</th>\n",
       "      <td>Ayomide</td>\n",
       "      <td>12-09-2021</td>\n",
       "      <td>4 out of 5</td>\n",
       "      <td>Verified Purchase</td>\n",
       "    </tr>\n",
       "    <tr>\n",
       "      <th>633</th>\n",
       "      <td>Hammed</td>\n",
       "      <td>12-09-2021</td>\n",
       "      <td>4 out of 5</td>\n",
       "      <td>Verified Purchase</td>\n",
       "    </tr>\n",
       "    <tr>\n",
       "      <th>634</th>\n",
       "      <td>EL</td>\n",
       "      <td>11-09-2021</td>\n",
       "      <td>4 out of 5</td>\n",
       "      <td>Verified Purchase</td>\n",
       "    </tr>\n",
       "    <tr>\n",
       "      <th>635</th>\n",
       "      <td>Olawumi</td>\n",
       "      <td>11-09-2021</td>\n",
       "      <td>5 out of 5</td>\n",
       "      <td>Verified Purchase</td>\n",
       "    </tr>\n",
       "  </tbody>\n",
       "</table>\n",
       "<p>636 rows × 4 columns</p>\n",
       "</div>"
      ],
      "text/plain": [
       "         Name        Date      Rating             Status\n",
       "0     Gabriel  02-09-2022  5 out of 5  Verified Purchase\n",
       "1    Olaoluwa  01-09-2022  5 out of 5  Verified Purchase\n",
       "2       Alasa  01-09-2022  4 out of 5  Verified Purchase\n",
       "3          EL  31-08-2022  5 out of 5  Verified Purchase\n",
       "4     Michael  29-08-2022  4 out of 5  Verified Purchase\n",
       "..        ...         ...         ...                ...\n",
       "631   Odunayo  13-09-2021  3 out of 5  Verified Purchase\n",
       "632   Ayomide  12-09-2021  4 out of 5  Verified Purchase\n",
       "633    Hammed  12-09-2021  4 out of 5  Verified Purchase\n",
       "634        EL  11-09-2021  4 out of 5  Verified Purchase\n",
       "635   Olawumi  11-09-2021  5 out of 5  Verified Purchase\n",
       "\n",
       "[636 rows x 4 columns]"
      ]
     },
     "execution_count": 5,
     "metadata": {},
     "output_type": "execute_result"
    }
   ],
   "source": [
    "jumia_data_df3 = jumia_data_df2.dropna()\n",
    "jumia_data_df3"
   ]
  },
  {
   "cell_type": "code",
   "execution_count": 7,
   "metadata": {},
   "outputs": [
    {
     "name": "stdout",
     "output_type": "stream",
     "text": [
      "<class 'pandas.core.frame.DataFrame'>\n",
      "Int64Index: 636 entries, 0 to 635\n",
      "Data columns (total 4 columns):\n",
      " #   Column  Non-Null Count  Dtype \n",
      "---  ------  --------------  ----- \n",
      " 0   Name    636 non-null    object\n",
      " 1   Date    636 non-null    object\n",
      " 2   Rating  636 non-null    object\n",
      " 3   Status  636 non-null    object\n",
      "dtypes: object(4)\n",
      "memory usage: 24.8+ KB\n"
     ]
    }
   ],
   "source": [
    "jumia_data_df3.info()"
   ]
  },
  {
   "cell_type": "markdown",
   "metadata": {},
   "source": [
    "Saving DataFrame and Plots"
   ]
  },
  {
   "cell_type": "code",
   "execution_count": 86,
   "metadata": {},
   "outputs": [],
   "source": [
    "# Saving files\n",
    "FILE_ROOT_DIR = \".\"\n",
    "FILE_SECTION_ID = \"data_eng_files\"\n",
    "FILES_PATH = os.path.join(FILE_ROOT_DIR, \"files\", FILE_SECTION_ID)\n",
    "os.makedirs(FILES_PATH, exist_ok=True)\n",
    "def save_excel_file(file_id):\n",
    "    sub_path = os.path.join(FILES_PATH,file_id)\n",
    "    if jumia_data_df3.to_excel(sub_path, file_id):\n",
    "        print(\"Saving file:\", file_id)\n",
    "    print(file_id, 'saved successfully.')\n",
    "def save_json_file(file_id):\n",
    "    sub_path = os.path.join(FILES_PATH)\n",
    "    if jumia_data_df3.to_json(os.path.join(sub_path, file_id), orient='index', indent=2):\n",
    "        print(\"Saving file:\", file_id)\n",
    "    print(file_id, 'saved successfully.')\n",
    "def save_csv_file(file_id):\n",
    "    sub_path = os.path.join(FILES_PATH)\n",
    "    if jumia_data_df3.to_csv(os.path.join(sub_path, file_id), index=False):\n",
    "        print(\"Saving file:\", file_id)\n",
    "    print(file_id, 'saved successfully.')\n",
    "# Ploting pretty figures\n",
    "%matplotlib inline\n",
    "mpl.rc('axes', labelsize=14)\n",
    "mpl.rc('xtick', labelsize=12)\n",
    "mpl.rc('ytick', labelsize=12)\n",
    "# Saving figures\n",
    "FIG_ROOT_DIR = \".\"\n",
    "SECTION_ID = \"data_eng_figs\"\n",
    "IMAGES_PATH = os.path.join(FIG_ROOT_DIR, \"images\", SECTION_ID)\n",
    "os.makedirs(IMAGES_PATH, exist_ok=True)\n",
    "def save_plot(fig_id, tight_layout=True, fig_extension=\"png\", resolution=300):\n",
    "    path = os.path.join(IMAGES_PATH, fig_id + \".\" + fig_extension)\n",
    "    print(\"Saving figure:\", fig_id)\n",
    "    if tight_layout:\n",
    "        plt.tight_layout()\n",
    "    plt.savefig(path, format=fig_extension, dpi=resolution)\n"
   ]
  },
  {
   "cell_type": "code",
   "execution_count": 87,
   "metadata": {},
   "outputs": [
    {
     "name": "stdout",
     "output_type": "stream",
     "text": [
      "jumia_df3.xlsx saved successfully.\n"
     ]
    }
   ],
   "source": [
    "save_excel_file('jumia_df3.xlsx')"
   ]
  },
  {
   "cell_type": "code",
   "execution_count": 88,
   "metadata": {},
   "outputs": [
    {
     "name": "stdout",
     "output_type": "stream",
     "text": [
      "jumia_df3.json saved successfully.\n"
     ]
    }
   ],
   "source": [
    "save_json_file('jumia_df3.json')"
   ]
  },
  {
   "cell_type": "code",
   "execution_count": 89,
   "metadata": {},
   "outputs": [
    {
     "name": "stdout",
     "output_type": "stream",
     "text": [
      "jumia_df3.txt saved successfully.\n"
     ]
    }
   ],
   "source": [
    "save_json_file('jumia_df3.txt')"
   ]
  },
  {
   "cell_type": "code",
   "execution_count": 90,
   "metadata": {},
   "outputs": [
    {
     "name": "stdout",
     "output_type": "stream",
     "text": [
      "jumia_df3.csv saved successfully.\n"
     ]
    }
   ],
   "source": [
    "save_csv_file('jumia_df3.csv')"
   ]
  },
  {
   "cell_type": "markdown",
   "metadata": {},
   "source": [
    "## Part 4 (Further Data Exploration)"
   ]
  },
  {
   "cell_type": "markdown",
   "metadata": {},
   "source": [
    "Rating According to Customers' Satisfaction"
   ]
  },
  {
   "cell_type": "code",
   "execution_count": 15,
   "metadata": {},
   "outputs": [
    {
     "data": {
      "text/html": [
       "<div>\n",
       "<style scoped>\n",
       "    .dataframe tbody tr th:only-of-type {\n",
       "        vertical-align: middle;\n",
       "    }\n",
       "\n",
       "    .dataframe tbody tr th {\n",
       "        vertical-align: top;\n",
       "    }\n",
       "\n",
       "    .dataframe thead th {\n",
       "        text-align: right;\n",
       "    }\n",
       "</style>\n",
       "<table border=\"1\" class=\"dataframe\">\n",
       "  <thead>\n",
       "    <tr style=\"text-align: right;\">\n",
       "      <th></th>\n",
       "      <th>Name</th>\n",
       "      <th>Date</th>\n",
       "      <th>Rating</th>\n",
       "      <th>Status</th>\n",
       "    </tr>\n",
       "  </thead>\n",
       "  <tbody>\n",
       "    <tr>\n",
       "      <th>0</th>\n",
       "      <td>Gabriel</td>\n",
       "      <td>02-09-2022</td>\n",
       "      <td>5 out of 5</td>\n",
       "      <td>Verified Purchase</td>\n",
       "    </tr>\n",
       "    <tr>\n",
       "      <th>1</th>\n",
       "      <td>Olaoluwa</td>\n",
       "      <td>01-09-2022</td>\n",
       "      <td>5 out of 5</td>\n",
       "      <td>Verified Purchase</td>\n",
       "    </tr>\n",
       "    <tr>\n",
       "      <th>3</th>\n",
       "      <td>EL</td>\n",
       "      <td>31-08-2022</td>\n",
       "      <td>5 out of 5</td>\n",
       "      <td>Verified Purchase</td>\n",
       "    </tr>\n",
       "    <tr>\n",
       "      <th>5</th>\n",
       "      <td>Utibe</td>\n",
       "      <td>29-08-2022</td>\n",
       "      <td>5 out of 5</td>\n",
       "      <td>Verified Purchase</td>\n",
       "    </tr>\n",
       "    <tr>\n",
       "      <th>6</th>\n",
       "      <td>Ajayi</td>\n",
       "      <td>29-08-2022</td>\n",
       "      <td>5 out of 5</td>\n",
       "      <td>Verified Purchase</td>\n",
       "    </tr>\n",
       "    <tr>\n",
       "      <th>...</th>\n",
       "      <td>...</td>\n",
       "      <td>...</td>\n",
       "      <td>...</td>\n",
       "      <td>...</td>\n",
       "    </tr>\n",
       "    <tr>\n",
       "      <th>625</th>\n",
       "      <td>victor</td>\n",
       "      <td>16-09-2021</td>\n",
       "      <td>5 out of 5</td>\n",
       "      <td>Verified Purchase</td>\n",
       "    </tr>\n",
       "    <tr>\n",
       "      <th>626</th>\n",
       "      <td>Alfred</td>\n",
       "      <td>16-09-2021</td>\n",
       "      <td>5 out of 5</td>\n",
       "      <td>Verified Purchase</td>\n",
       "    </tr>\n",
       "    <tr>\n",
       "      <th>627</th>\n",
       "      <td>Jay</td>\n",
       "      <td>15-09-2021</td>\n",
       "      <td>5 out of 5</td>\n",
       "      <td>Verified Purchase</td>\n",
       "    </tr>\n",
       "    <tr>\n",
       "      <th>628</th>\n",
       "      <td>Ijeoma</td>\n",
       "      <td>14-09-2021</td>\n",
       "      <td>5 out of 5</td>\n",
       "      <td>Verified Purchase</td>\n",
       "    </tr>\n",
       "    <tr>\n",
       "      <th>635</th>\n",
       "      <td>Olawumi</td>\n",
       "      <td>11-09-2021</td>\n",
       "      <td>5 out of 5</td>\n",
       "      <td>Verified Purchase</td>\n",
       "    </tr>\n",
       "  </tbody>\n",
       "</table>\n",
       "<p>436 rows × 4 columns</p>\n",
       "</div>"
      ],
      "text/plain": [
       "         Name        Date      Rating             Status\n",
       "0     Gabriel  02-09-2022  5 out of 5  Verified Purchase\n",
       "1    Olaoluwa  01-09-2022  5 out of 5  Verified Purchase\n",
       "3          EL  31-08-2022  5 out of 5  Verified Purchase\n",
       "5       Utibe  29-08-2022  5 out of 5  Verified Purchase\n",
       "6       Ajayi  29-08-2022  5 out of 5  Verified Purchase\n",
       "..        ...         ...         ...                ...\n",
       "625    victor  16-09-2021  5 out of 5  Verified Purchase\n",
       "626    Alfred  16-09-2021  5 out of 5  Verified Purchase\n",
       "627       Jay  15-09-2021  5 out of 5  Verified Purchase\n",
       "628    Ijeoma  14-09-2021  5 out of 5  Verified Purchase\n",
       "635   Olawumi  11-09-2021  5 out of 5  Verified Purchase\n",
       "\n",
       "[436 rows x 4 columns]"
      ]
     },
     "execution_count": 15,
     "metadata": {},
     "output_type": "execute_result"
    }
   ],
   "source": [
    "jumia_data_df3.loc[jumia_data_df3['Rating'] == '5 out of 5']"
   ]
  },
  {
   "cell_type": "code",
   "execution_count": 121,
   "metadata": {},
   "outputs": [
    {
     "data": {
      "text/html": [
       "<div>\n",
       "<style scoped>\n",
       "    .dataframe tbody tr th:only-of-type {\n",
       "        vertical-align: middle;\n",
       "    }\n",
       "\n",
       "    .dataframe tbody tr th {\n",
       "        vertical-align: top;\n",
       "    }\n",
       "\n",
       "    .dataframe thead th {\n",
       "        text-align: right;\n",
       "    }\n",
       "</style>\n",
       "<table border=\"1\" class=\"dataframe\">\n",
       "  <thead>\n",
       "    <tr style=\"text-align: right;\">\n",
       "      <th></th>\n",
       "      <th>Name</th>\n",
       "      <th>Date</th>\n",
       "      <th>Rating</th>\n",
       "      <th>Status</th>\n",
       "    </tr>\n",
       "  </thead>\n",
       "  <tbody>\n",
       "    <tr>\n",
       "      <th>123</th>\n",
       "      <td>WO</td>\n",
       "      <td>05-05-2022</td>\n",
       "      <td>1 out of 5</td>\n",
       "      <td>Verified Purchase</td>\n",
       "    </tr>\n",
       "    <tr>\n",
       "      <th>523</th>\n",
       "      <td>Chinedu</td>\n",
       "      <td>17-11-2021</td>\n",
       "      <td>1 out of 5</td>\n",
       "      <td>Verified Purchase</td>\n",
       "    </tr>\n",
       "    <tr>\n",
       "      <th>581</th>\n",
       "      <td>Precious</td>\n",
       "      <td>21-10-2021</td>\n",
       "      <td>1 out of 5</td>\n",
       "      <td>Verified Purchase</td>\n",
       "    </tr>\n",
       "    <tr>\n",
       "      <th>589</th>\n",
       "      <td>Olasunkanmi</td>\n",
       "      <td>11-10-2021</td>\n",
       "      <td>1 out of 5</td>\n",
       "      <td>Verified Purchase</td>\n",
       "    </tr>\n",
       "  </tbody>\n",
       "</table>\n",
       "</div>"
      ],
      "text/plain": [
       "            Name        Date      Rating             Status\n",
       "123           WO  05-05-2022  1 out of 5  Verified Purchase\n",
       "523      Chinedu  17-11-2021  1 out of 5  Verified Purchase\n",
       "581     Precious  21-10-2021  1 out of 5  Verified Purchase\n",
       "589  Olasunkanmi  11-10-2021  1 out of 5  Verified Purchase"
      ]
     },
     "execution_count": 121,
     "metadata": {},
     "output_type": "execute_result"
    }
   ],
   "source": [
    "jumia_data_df3.loc[jumia_data_df3['Rating'] == '1 out of 5']\n"
   ]
  },
  {
   "cell_type": "code",
   "execution_count": 18,
   "metadata": {},
   "outputs": [
    {
     "data": {
      "text/plain": [
       "Name      34\n",
       "Date      34\n",
       "Rating    34\n",
       "Status    34\n",
       "dtype: int64"
      ]
     },
     "execution_count": 18,
     "metadata": {},
     "output_type": "execute_result"
    }
   ],
   "source": [
    "jumia_data_df3.loc[jumia_data_df3['Rating'].str.contains('3 out of 5')].count()\n"
   ]
  },
  {
   "cell_type": "markdown",
   "metadata": {},
   "source": [
    "Sorting Customers According to Satisfacton"
   ]
  },
  {
   "cell_type": "code",
   "execution_count": 27,
   "metadata": {},
   "outputs": [
    {
     "data": {
      "text/html": [
       "<div>\n",
       "<style scoped>\n",
       "    .dataframe tbody tr th:only-of-type {\n",
       "        vertical-align: middle;\n",
       "    }\n",
       "\n",
       "    .dataframe tbody tr th {\n",
       "        vertical-align: top;\n",
       "    }\n",
       "\n",
       "    .dataframe thead th {\n",
       "        text-align: right;\n",
       "    }\n",
       "</style>\n",
       "<table border=\"1\" class=\"dataframe\">\n",
       "  <thead>\n",
       "    <tr style=\"text-align: right;\">\n",
       "      <th></th>\n",
       "      <th>Name</th>\n",
       "      <th>Date</th>\n",
       "      <th>Rating</th>\n",
       "      <th>Status</th>\n",
       "    </tr>\n",
       "  </thead>\n",
       "  <tbody>\n",
       "    <tr>\n",
       "      <th>183</th>\n",
       "      <td>Tian</td>\n",
       "      <td>08-04-2022</td>\n",
       "      <td>5 star review 0</td>\n",
       "      <td>Verified Purchase</td>\n",
       "    </tr>\n",
       "    <tr>\n",
       "      <th>317</th>\n",
       "      <td>Evidence</td>\n",
       "      <td>28-12-2021</td>\n",
       "      <td>5 star plus 5</td>\n",
       "      <td>Verified Purchase</td>\n",
       "    </tr>\n",
       "    <tr>\n",
       "      <th>394</th>\n",
       "      <td>Simon</td>\n",
       "      <td>06-12-2021</td>\n",
       "      <td>5 out of 5</td>\n",
       "      <td>Verified Purchase</td>\n",
       "    </tr>\n",
       "    <tr>\n",
       "      <th>386</th>\n",
       "      <td>Lanre</td>\n",
       "      <td>07-12-2021</td>\n",
       "      <td>5 out of 5</td>\n",
       "      <td>Verified Purchase</td>\n",
       "    </tr>\n",
       "    <tr>\n",
       "      <th>390</th>\n",
       "      <td>KE</td>\n",
       "      <td>07-12-2021</td>\n",
       "      <td>5 out of 5</td>\n",
       "      <td>Verified Purchase</td>\n",
       "    </tr>\n",
       "    <tr>\n",
       "      <th>...</th>\n",
       "      <td>...</td>\n",
       "      <td>...</td>\n",
       "      <td>...</td>\n",
       "      <td>...</td>\n",
       "    </tr>\n",
       "    <tr>\n",
       "      <th>523</th>\n",
       "      <td>Chinedu</td>\n",
       "      <td>17-11-2021</td>\n",
       "      <td>1 out of 5</td>\n",
       "      <td>Verified Purchase</td>\n",
       "    </tr>\n",
       "    <tr>\n",
       "      <th>123</th>\n",
       "      <td>WO</td>\n",
       "      <td>05-05-2022</td>\n",
       "      <td>1 out of 5</td>\n",
       "      <td>Verified Purchase</td>\n",
       "    </tr>\n",
       "    <tr>\n",
       "      <th>581</th>\n",
       "      <td>Precious</td>\n",
       "      <td>21-10-2021</td>\n",
       "      <td>1 out of 5</td>\n",
       "      <td>Verified Purchase</td>\n",
       "    </tr>\n",
       "    <tr>\n",
       "      <th>589</th>\n",
       "      <td>Olasunkanmi</td>\n",
       "      <td>11-10-2021</td>\n",
       "      <td>1 out of 5</td>\n",
       "      <td>Verified Purchase</td>\n",
       "    </tr>\n",
       "    <tr>\n",
       "      <th>568</th>\n",
       "      <td>Ogunberu</td>\n",
       "      <td>08-11-2021</td>\n",
       "      <td>1 by Olatunji 7</td>\n",
       "      <td>Verified Purchase</td>\n",
       "    </tr>\n",
       "  </tbody>\n",
       "</table>\n",
       "<p>636 rows × 4 columns</p>\n",
       "</div>"
      ],
      "text/plain": [
       "            Name        Date           Rating             Status\n",
       "183         Tian  08-04-2022  5 star review 0  Verified Purchase\n",
       "317     Evidence  28-12-2021    5 star plus 5  Verified Purchase\n",
       "394        Simon  06-12-2021       5 out of 5  Verified Purchase\n",
       "386        Lanre  07-12-2021       5 out of 5  Verified Purchase\n",
       "390           KE  07-12-2021       5 out of 5  Verified Purchase\n",
       "..           ...         ...              ...                ...\n",
       "523      Chinedu  17-11-2021       1 out of 5  Verified Purchase\n",
       "123           WO  05-05-2022       1 out of 5  Verified Purchase\n",
       "581     Precious  21-10-2021       1 out of 5  Verified Purchase\n",
       "589  Olasunkanmi  11-10-2021       1 out of 5  Verified Purchase\n",
       "568     Ogunberu  08-11-2021  1 by Olatunji 7  Verified Purchase\n",
       "\n",
       "[636 rows x 4 columns]"
      ]
     },
     "execution_count": 27,
     "metadata": {},
     "output_type": "execute_result"
    }
   ],
   "source": [
    "customer_sat_df = jumia_data_df3.sort_values(['Rating'], ascending=[0])\n",
    "customer_sat_df"
   ]
  },
  {
   "cell_type": "markdown",
   "metadata": {},
   "source": [
    "Printing the Length of Each Rating"
   ]
  },
  {
   "cell_type": "code",
   "execution_count": 16,
   "metadata": {},
   "outputs": [
    {
     "name": "stdout",
     "output_type": "stream",
     "text": [
      "1 out of 5: 4\n",
      "2 out of 5: 8\n",
      "3 out of 5: 34\n",
      "4 out of 5: 148\n",
      "5 out of 5: 436\n"
     ]
    }
   ],
   "source": [
    "print('1 out of 5:', len(jumia_data_df3.loc[jumia_data_df3['Rating'].str.contains('1 out of 5')]))\n",
    "print('2 out of 5:', len(jumia_data_df3.loc[jumia_data_df3['Rating'].str.contains('2 out of 5')]))\n",
    "print('3 out of 5:', len(jumia_data_df3.loc[jumia_data_df3['Rating'].str.contains('3 out of 5')]))\n",
    "print('4 out of 5:', len(jumia_data_df3.loc[jumia_data_df3['Rating'].str.contains('4 out of 5')]))\n",
    "print('5 out of 5:', len(jumia_data_df3.loc[jumia_data_df3['Rating'].str.contains('5 out of 5')]))"
   ]
  },
  {
   "cell_type": "markdown",
   "metadata": {},
   "source": [
    "# Part 5"
   ]
  },
  {
   "cell_type": "markdown",
   "metadata": {},
   "source": [
    "Ploting Customers' Rating According to Satisfacton \n",
    "(Data Visuliasation => Generating Insight from the Data)\n",
    " "
   ]
  },
  {
   "cell_type": "code",
   "execution_count": 6,
   "metadata": {},
   "outputs": [
    {
     "data": {
      "text/html": [
       "<div>\n",
       "<style scoped>\n",
       "    .dataframe tbody tr th:only-of-type {\n",
       "        vertical-align: middle;\n",
       "    }\n",
       "\n",
       "    .dataframe tbody tr th {\n",
       "        vertical-align: top;\n",
       "    }\n",
       "\n",
       "    .dataframe thead th {\n",
       "        text-align: right;\n",
       "    }\n",
       "</style>\n",
       "<table border=\"1\" class=\"dataframe\">\n",
       "  <thead>\n",
       "    <tr style=\"text-align: right;\">\n",
       "      <th></th>\n",
       "      <th>cus_rating</th>\n",
       "      <th>rating_result</th>\n",
       "    </tr>\n",
       "  </thead>\n",
       "  <tbody>\n",
       "    <tr>\n",
       "      <th>0</th>\n",
       "      <td>1 out of 5</td>\n",
       "      <td>4</td>\n",
       "    </tr>\n",
       "    <tr>\n",
       "      <th>1</th>\n",
       "      <td>2 out of 5</td>\n",
       "      <td>8</td>\n",
       "    </tr>\n",
       "    <tr>\n",
       "      <th>2</th>\n",
       "      <td>3 out of 5</td>\n",
       "      <td>34</td>\n",
       "    </tr>\n",
       "    <tr>\n",
       "      <th>3</th>\n",
       "      <td>4 out of 5</td>\n",
       "      <td>148</td>\n",
       "    </tr>\n",
       "    <tr>\n",
       "      <th>4</th>\n",
       "      <td>5 out of 5</td>\n",
       "      <td>436</td>\n",
       "    </tr>\n",
       "  </tbody>\n",
       "</table>\n",
       "</div>"
      ],
      "text/plain": [
       "   cus_rating  rating_result\n",
       "0  1 out of 5              4\n",
       "1  2 out of 5              8\n",
       "2  3 out of 5             34\n",
       "3  4 out of 5            148\n",
       "4  5 out of 5            436"
      ]
     },
     "execution_count": 6,
     "metadata": {},
     "output_type": "execute_result"
    }
   ],
   "source": [
    "cus_rating = ['1 out of 5','2 out of 5', '3 out of 5', '4 out of 5', '5 out of 5']\n",
    "rating_result = [4, 8, 34, 148, 436]\n",
    "jumia_cus_rating_df = cus_rating_df = pd.DataFrame({\n",
    "    \"cus_rating\": cus_rating,\n",
    "    \"rating_result\": rating_result\n",
    "    })\n",
    "jumia_cus_rating_df"
   ]
  },
  {
   "cell_type": "code",
   "execution_count": 20,
   "metadata": {},
   "outputs": [
    {
     "name": "stdout",
     "output_type": "stream",
     "text": [
      "Saving figure: customers_ratings_bar\n"
     ]
    },
    {
     "data": {
      "image/png": "[encoded data removed]",
      "text/plain": [
       "<Figure size 432x288 with 1 Axes>"
      ]
     },
     "metadata": {
      "needs_background": "light"
     },
     "output_type": "display_data"
    }
   ],
   "source": [
    "cus_rating_df.sort_values('rating_result')\n",
    "sns.barplot(\n",
    "    x='cus_rating',\n",
    "    y=\"rating_result\",\n",
    "    data=cus_rating_df,\n",
    "    order=cus_rating_df.sort_values('rating_result',\n",
    "    ascending = False).cus_rating\n",
    "    ).set_title(\"Customers' Ratings\", fontsize=24)\n",
    "plt.xlabel('Rating', fontsize=14)\n",
    "plt.ylabel('Result', fontsize=14)\n",
    "save_plot(\"customers_ratings_bar\")\n",
    "plt.show()"
   ]
  },
  {
   "cell_type": "code",
   "execution_count": 21,
   "metadata": {},
   "outputs": [
    {
     "name": "stdout",
     "output_type": "stream",
     "text": [
      "Saving figure: customers_ratings_with_pct_bar1\n"
     ]
    },
    {
     "data": {
      "image/png": "[encoded data removed]",
      "text/plain": [
       "<Figure size 432x288 with 1 Axes>"
      ]
     },
     "metadata": {},
     "output_type": "display_data"
    }
   ],
   "source": [
    "jumia_bar_data = pd.DataFrame({'cus_rating': cus_rating,\n",
    "                                'rating_result': rating_result})      \n",
    "percentage = []\n",
    "total_rating = jumia_bar_data.rating_result.sum()\n",
    "for i in range(jumia_bar_data.shape[0]):\n",
    "    rating_pct = (jumia_bar_data.rating_result[i] / total_rating) * 100\n",
    "    percentage.append(round(rating_pct,2))\n",
    "jumia_bar_data['Percentage'] = percentage\n",
    "plt.style.use(\"seaborn-darkgrid\")\n",
    "plt.title(\"Customers' Ratings with Percentages\", fontsize=24)\n",
    "plt.xlabel('Rating', fontsize=14)\n",
    "plt.ylabel('Result', fontsize=14)\n",
    "colors_list = ['Red','Orange', 'Blue', 'Purple', 'Green']\n",
    "graph = plt.bar(jumia_bar_data.cus_rating,jumia_bar_data.rating_result, color = colors_list)\n",
    "i = 0\n",
    "for p in graph:\n",
    "    width = p.get_width()\n",
    "    height = p.get_height()\n",
    "    x, y = p.get_xy()\n",
    "    plt.text(x+width/2,\n",
    "             y+height*1.01,\n",
    "             str(jumia_bar_data.Percentage[i])+'%',\n",
    "             ha='center',\n",
    "             weight='bold')\n",
    "    i+=1\n",
    "save_plot(\"customers_ratings_with_pct_bar1\")\n",
    "plt.show()"
   ]
  },
  {
   "cell_type": "code",
   "execution_count": 22,
   "metadata": {},
   "outputs": [
    {
     "name": "stdout",
     "output_type": "stream",
     "text": [
      "Saving figure: customers_ratings_with_pct_bar2\n"
     ]
    },
    {
     "data": {
      "image/png": "[encoded data removed]",
      "text/plain": [
       "<Figure size 1280x768 with 1 Axes>"
      ]
     },
     "metadata": {},
     "output_type": "display_data"
    }
   ],
   "source": [
    "jumia_bar_data = pd.DataFrame({'cus_rating': cus_rating,\n",
    "                            'rating_result': rating_result})\n",
    "percentage = []\n",
    "total_rating = jumia_bar_data.rating_result.sum()\n",
    "for i in range(jumia_bar_data.shape[0]):\n",
    "    rating_pct = (jumia_bar_data.rating_result[i] / total_rating) * 100\n",
    "    percentage.append(round(rating_pct,2))\n",
    "jumia_bar_data['Percentage'] = percentage\n",
    "plt.style.use(\"seaborn-darkgrid\")\n",
    "fig = plt.figure(dpi=128, figsize=(10, 6))\n",
    "plt.title(\"Customers' Ratings with Percentages\", fontsize=24)\n",
    "plt.xlabel('Rating', fontsize=14)\n",
    "plt.ylabel('Result', fontsize=14)\n",
    "fig.autofmt_xdate()\n",
    "colors_list = ['Red','Orange', 'Blue', 'Purple', 'Green']\n",
    "graph = plt.bar(jumia_bar_data.cus_rating,jumia_bar_data.rating_result, color = colors_list)\n",
    "i = 0\n",
    "for p in graph:\n",
    "    width = p.get_width()\n",
    "    height = p.get_height()\n",
    "    x, y = p.get_xy()\n",
    "    plt.text(x+width/2,\n",
    "             y+height*1.01,\n",
    "             str(jumia_bar_data.Percentage[i])+'%',\n",
    "             ha='center',\n",
    "             weight='bold')\n",
    "    i+=1\n",
    "save_plot(\"customers_ratings_with_pct_bar2\")\n",
    "plt.show()"
   ]
  },
  {
   "cell_type": "code",
   "execution_count": 23,
   "metadata": {},
   "outputs": [
    {
     "name": "stdout",
     "output_type": "stream",
     "text": [
      "Saving figure: customers_ratings_with_pct_barh\n"
     ]
    },
    {
     "data": {
      "image/png": "[encoded data removed]",
      "text/plain": [
       "<Figure size 1280x768 with 1 Axes>"
      ]
     },
     "metadata": {},
     "output_type": "display_data"
    }
   ],
   "source": [
    "jumia_bar_data = pd.DataFrame({'cus_rating': cus_rating,\n",
    "                            'rating_result': rating_result})\n",
    "percentage = []\n",
    "total_rating = jumia_bar_data.rating_result.sum()\n",
    "for i in range(jumia_bar_data.shape[0]):\n",
    "    rating_pct = (jumia_bar_data.rating_result[i] / total_rating) * 100\n",
    "    percentage.append(round(rating_pct,2))\n",
    "jumia_bar_data['Percentage'] = percentage\n",
    "plt.style.use(\"seaborn-darkgrid\")\n",
    "plt.figure(dpi=128, figsize=(10, 6))\n",
    "plt.title(\"Customers' Ratings with Percentages\", fontsize=24)\n",
    "plt.ylabel('Rating', fontsize=14)\n",
    "plt.xlabel('Result', fontsize=14)\n",
    "colors_list = ['Red','Orange', 'Blue', 'Purple', 'Green']\n",
    "graph = plt.barh(jumia_bar_data.cus_rating,jumia_bar_data.rating_result, color = colors_list)\n",
    "i = 0\n",
    "for p in graph:\n",
    "    width = p.get_width()\n",
    "    height = p.get_height()\n",
    "    x, y = p.get_xy()\n",
    "    plt.text(x+width/2,\n",
    "             y+height*1.01,\n",
    "             str(jumia_bar_data.Percentage[i])+'%',\n",
    "             ha='center',\n",
    "             weight='bold')\n",
    "    i+=1\n",
    "save_plot(\"customers_ratings_with_pct_barh\")\n",
    "plt.show()"
   ]
  },
  {
   "cell_type": "code",
   "execution_count": 24,
   "metadata": {},
   "outputs": [
    {
     "name": "stdout",
     "output_type": "stream",
     "text": [
      "Saving figure: customers_ratings_with_pct_pie\n"
     ]
    },
    {
     "data": {
      "image/png": "[encoded data removed]",
      "text/plain": [
       "<Figure size 1008x720 with 1 Axes>"
      ]
     },
     "metadata": {},
     "output_type": "display_data"
    }
   ],
   "source": [
    "def customer_rating(rating_values):\n",
    "        def rating_percentage(rating_pct):\n",
    "            total_rat = sum(rating_values)\n",
    "            val = int(round(rating_pct*total_rat/100.0))\n",
    "            return '{:.1f}%\\n({v:d})'.format(rating_pct, v=val)\n",
    "        return rating_percentage\n",
    "plt.figure(figsize=(14,10))\n",
    "plt.pie(rating_result,labels = cus_rating, autopct=customer_rating(rating_result))\n",
    "plt.title(\"Customers' Ratings with Percentages\", fontsize=24)\n",
    "save_plot(\"customers_ratings_with_pct_pie\")"
   ]
  },
  {
   "cell_type": "markdown",
   "metadata": {},
   "source": [
    "Others"
   ]
  },
  {
   "cell_type": "code",
   "execution_count": 21,
   "metadata": {},
   "outputs": [
    {
     "data": {
      "text/html": [
       "<div>\n",
       "<style scoped>\n",
       "    .dataframe tbody tr th:only-of-type {\n",
       "        vertical-align: middle;\n",
       "    }\n",
       "\n",
       "    .dataframe tbody tr th {\n",
       "        vertical-align: top;\n",
       "    }\n",
       "\n",
       "    .dataframe thead th {\n",
       "        text-align: right;\n",
       "    }\n",
       "</style>\n",
       "<table border=\"1\" class=\"dataframe\">\n",
       "  <thead>\n",
       "    <tr style=\"text-align: right;\">\n",
       "      <th></th>\n",
       "      <th>Name</th>\n",
       "      <th>Date</th>\n",
       "      <th>Rating</th>\n",
       "      <th>Status</th>\n",
       "    </tr>\n",
       "  </thead>\n",
       "  <tbody>\n",
       "    <tr>\n",
       "      <th>count</th>\n",
       "      <td>636</td>\n",
       "      <td>636</td>\n",
       "      <td>636</td>\n",
       "      <td>636</td>\n",
       "    </tr>\n",
       "    <tr>\n",
       "      <th>unique</th>\n",
       "      <td>503</td>\n",
       "      <td>202</td>\n",
       "      <td>11</td>\n",
       "      <td>1</td>\n",
       "    </tr>\n",
       "    <tr>\n",
       "      <th>top</th>\n",
       "      <td>Samuel</td>\n",
       "      <td>03-12-2021</td>\n",
       "      <td>5 out of 5</td>\n",
       "      <td>Verified Purchase</td>\n",
       "    </tr>\n",
       "    <tr>\n",
       "      <th>freq</th>\n",
       "      <td>7</td>\n",
       "      <td>24</td>\n",
       "      <td>436</td>\n",
       "      <td>636</td>\n",
       "    </tr>\n",
       "  </tbody>\n",
       "</table>\n",
       "</div>"
      ],
      "text/plain": [
       "          Name        Date      Rating             Status\n",
       "count      636         636         636                636\n",
       "unique     503         202          11                  1\n",
       "top     Samuel  03-12-2021  5 out of 5  Verified Purchase\n",
       "freq         7          24         436                636"
      ]
     },
     "execution_count": 21,
     "metadata": {},
     "output_type": "execute_result"
    }
   ],
   "source": [
    "jumia_data_df3.describe()\n"
   ]
  },
  {
   "cell_type": "code",
   "execution_count": 22,
   "metadata": {},
   "outputs": [
    {
     "data": {
      "text/html": [
       "<div>\n",
       "<style scoped>\n",
       "    .dataframe tbody tr th:only-of-type {\n",
       "        vertical-align: middle;\n",
       "    }\n",
       "\n",
       "    .dataframe tbody tr th {\n",
       "        vertical-align: top;\n",
       "    }\n",
       "\n",
       "    .dataframe thead th {\n",
       "        text-align: right;\n",
       "    }\n",
       "</style>\n",
       "<table border=\"1\" class=\"dataframe\">\n",
       "  <thead>\n",
       "    <tr style=\"text-align: right;\">\n",
       "      <th></th>\n",
       "      <th>Name</th>\n",
       "      <th>Date</th>\n",
       "      <th>Rating</th>\n",
       "      <th>Status</th>\n",
       "    </tr>\n",
       "  </thead>\n",
       "  <tbody>\n",
       "    <tr>\n",
       "      <th>0</th>\n",
       "      <td>Gabriel</td>\n",
       "      <td>02-09-2022</td>\n",
       "      <td>5 out of 5</td>\n",
       "      <td>Verified Purchase</td>\n",
       "    </tr>\n",
       "    <tr>\n",
       "      <th>1</th>\n",
       "      <td>Olaoluwa</td>\n",
       "      <td>01-09-2022</td>\n",
       "      <td>5 out of 5</td>\n",
       "      <td>Verified Purchase</td>\n",
       "    </tr>\n",
       "    <tr>\n",
       "      <th>2</th>\n",
       "      <td>Alasa</td>\n",
       "      <td>01-09-2022</td>\n",
       "      <td>4 out of 5</td>\n",
       "      <td>Verified Purchase</td>\n",
       "    </tr>\n",
       "    <tr>\n",
       "      <th>3</th>\n",
       "      <td>EL</td>\n",
       "      <td>31-08-2022</td>\n",
       "      <td>5 out of 5</td>\n",
       "      <td>Verified Purchase</td>\n",
       "    </tr>\n",
       "    <tr>\n",
       "      <th>4</th>\n",
       "      <td>Michael</td>\n",
       "      <td>29-08-2022</td>\n",
       "      <td>4 out of 5</td>\n",
       "      <td>Verified Purchase</td>\n",
       "    </tr>\n",
       "  </tbody>\n",
       "</table>\n",
       "</div>"
      ],
      "text/plain": [
       "       Name        Date      Rating             Status\n",
       "0   Gabriel  02-09-2022  5 out of 5  Verified Purchase\n",
       "1  Olaoluwa  01-09-2022  5 out of 5  Verified Purchase\n",
       "2     Alasa  01-09-2022  4 out of 5  Verified Purchase\n",
       "3        EL  31-08-2022  5 out of 5  Verified Purchase\n",
       "4   Michael  29-08-2022  4 out of 5  Verified Purchase"
      ]
     },
     "execution_count": 22,
     "metadata": {},
     "output_type": "execute_result"
    }
   ],
   "source": [
    "jumia_data_df3.head()"
   ]
  },
  {
   "cell_type": "code",
   "execution_count": 37,
   "metadata": {},
   "outputs": [
    {
     "data": {
      "text/html": [
       "<div>\n",
       "<style scoped>\n",
       "    .dataframe tbody tr th:only-of-type {\n",
       "        vertical-align: middle;\n",
       "    }\n",
       "\n",
       "    .dataframe tbody tr th {\n",
       "        vertical-align: top;\n",
       "    }\n",
       "\n",
       "    .dataframe thead th {\n",
       "        text-align: right;\n",
       "    }\n",
       "</style>\n",
       "<table border=\"1\" class=\"dataframe\">\n",
       "  <thead>\n",
       "    <tr style=\"text-align: right;\">\n",
       "      <th></th>\n",
       "      <th>Name</th>\n",
       "      <th>Date</th>\n",
       "      <th>Rating</th>\n",
       "      <th>Status</th>\n",
       "    </tr>\n",
       "  </thead>\n",
       "  <tbody>\n",
       "    <tr>\n",
       "      <th>631</th>\n",
       "      <td>Odunayo</td>\n",
       "      <td>13-09-2021</td>\n",
       "      <td>3 out of 5</td>\n",
       "      <td>Verified Purchase</td>\n",
       "    </tr>\n",
       "    <tr>\n",
       "      <th>632</th>\n",
       "      <td>Ayomide</td>\n",
       "      <td>12-09-2021</td>\n",
       "      <td>4 out of 5</td>\n",
       "      <td>Verified Purchase</td>\n",
       "    </tr>\n",
       "    <tr>\n",
       "      <th>633</th>\n",
       "      <td>Hammed</td>\n",
       "      <td>12-09-2021</td>\n",
       "      <td>4 out of 5</td>\n",
       "      <td>Verified Purchase</td>\n",
       "    </tr>\n",
       "    <tr>\n",
       "      <th>634</th>\n",
       "      <td>EL</td>\n",
       "      <td>11-09-2021</td>\n",
       "      <td>4 out of 5</td>\n",
       "      <td>Verified Purchase</td>\n",
       "    </tr>\n",
       "    <tr>\n",
       "      <th>635</th>\n",
       "      <td>Olawumi</td>\n",
       "      <td>11-09-2021</td>\n",
       "      <td>5 out of 5</td>\n",
       "      <td>Verified Purchase</td>\n",
       "    </tr>\n",
       "  </tbody>\n",
       "</table>\n",
       "</div>"
      ],
      "text/plain": [
       "        Name        Date      Rating             Status\n",
       "631  Odunayo  13-09-2021  3 out of 5  Verified Purchase\n",
       "632  Ayomide  12-09-2021  4 out of 5  Verified Purchase\n",
       "633   Hammed  12-09-2021  4 out of 5  Verified Purchase\n",
       "634       EL  11-09-2021  4 out of 5  Verified Purchase\n",
       "635  Olawumi  11-09-2021  5 out of 5  Verified Purchase"
      ]
     },
     "execution_count": 37,
     "metadata": {},
     "output_type": "execute_result"
    }
   ],
   "source": [
    "jumia_data_df3.tail()\n"
   ]
  },
  {
   "cell_type": "code",
   "execution_count": 23,
   "metadata": {},
   "outputs": [
    {
     "data": {
      "text/plain": [
       "Name                  Alasa\n",
       "Date             01-09-2022\n",
       "Rating           4 out of 5\n",
       "Status    Verified Purchase\n",
       "Name: 2, dtype: object"
      ]
     },
     "execution_count": 23,
     "metadata": {},
     "output_type": "execute_result"
    }
   ],
   "source": [
    "jumia_data_df3.loc[2]\n"
   ]
  },
  {
   "cell_type": "code",
   "execution_count": 28,
   "metadata": {},
   "outputs": [
    {
     "data": {
      "text/html": [
       "<div>\n",
       "<style scoped>\n",
       "    .dataframe tbody tr th:only-of-type {\n",
       "        vertical-align: middle;\n",
       "    }\n",
       "\n",
       "    .dataframe tbody tr th {\n",
       "        vertical-align: top;\n",
       "    }\n",
       "\n",
       "    .dataframe thead th {\n",
       "        text-align: right;\n",
       "    }\n",
       "</style>\n",
       "<table border=\"1\" class=\"dataframe\">\n",
       "  <thead>\n",
       "    <tr style=\"text-align: right;\">\n",
       "      <th></th>\n",
       "      <th>Name</th>\n",
       "      <th>Date</th>\n",
       "      <th>Rating</th>\n",
       "      <th>Status</th>\n",
       "    </tr>\n",
       "  </thead>\n",
       "  <tbody>\n",
       "    <tr>\n",
       "      <th>0</th>\n",
       "      <td>Gabriel</td>\n",
       "      <td>02-09-2022</td>\n",
       "      <td>5 out of 5</td>\n",
       "      <td>Verified Purchase</td>\n",
       "    </tr>\n",
       "    <tr>\n",
       "      <th>1</th>\n",
       "      <td>Olaoluwa</td>\n",
       "      <td>01-09-2022</td>\n",
       "      <td>5 out of 5</td>\n",
       "      <td>Verified Purchase</td>\n",
       "    </tr>\n",
       "    <tr>\n",
       "      <th>2</th>\n",
       "      <td>Alasa</td>\n",
       "      <td>01-09-2022</td>\n",
       "      <td>4 out of 5</td>\n",
       "      <td>Verified Purchase</td>\n",
       "    </tr>\n",
       "  </tbody>\n",
       "</table>\n",
       "</div>"
      ],
      "text/plain": [
       "       Name        Date      Rating             Status\n",
       "0   Gabriel  02-09-2022  5 out of 5  Verified Purchase\n",
       "1  Olaoluwa  01-09-2022  5 out of 5  Verified Purchase\n",
       "2     Alasa  01-09-2022  4 out of 5  Verified Purchase"
      ]
     },
     "execution_count": 28,
     "metadata": {},
     "output_type": "execute_result"
    }
   ],
   "source": [
    "jumia_data_df3.iloc[0:3]"
   ]
  },
  {
   "cell_type": "code",
   "execution_count": 29,
   "metadata": {},
   "outputs": [
    {
     "data": {
      "text/plain": [
       "0       Gabriel\n",
       "1      Olaoluwa\n",
       "2         Alasa\n",
       "3            EL\n",
       "4       Michael\n",
       "         ...   \n",
       "631     Odunayo\n",
       "632     Ayomide\n",
       "633      Hammed\n",
       "634          EL\n",
       "635     Olawumi\n",
       "Name: Name, Length: 636, dtype: object"
      ]
     },
     "execution_count": 29,
     "metadata": {},
     "output_type": "execute_result"
    }
   ],
   "source": [
    "jumia_data_df3['Name']"
   ]
  },
  {
   "cell_type": "code",
   "execution_count": 23,
   "metadata": {},
   "outputs": [
    {
     "data": {
      "text/html": [
       "<div>\n",
       "<style scoped>\n",
       "    .dataframe tbody tr th:only-of-type {\n",
       "        vertical-align: middle;\n",
       "    }\n",
       "\n",
       "    .dataframe tbody tr th {\n",
       "        vertical-align: top;\n",
       "    }\n",
       "\n",
       "    .dataframe thead th {\n",
       "        text-align: right;\n",
       "    }\n",
       "</style>\n",
       "<table border=\"1\" class=\"dataframe\">\n",
       "  <thead>\n",
       "    <tr style=\"text-align: right;\">\n",
       "      <th></th>\n",
       "      <th>Date</th>\n",
       "      <th>Name</th>\n",
       "    </tr>\n",
       "  </thead>\n",
       "  <tbody>\n",
       "    <tr>\n",
       "      <th>0</th>\n",
       "      <td>02-09-2022</td>\n",
       "      <td>Gabriel</td>\n",
       "    </tr>\n",
       "    <tr>\n",
       "      <th>1</th>\n",
       "      <td>01-09-2022</td>\n",
       "      <td>Olaoluwa</td>\n",
       "    </tr>\n",
       "    <tr>\n",
       "      <th>2</th>\n",
       "      <td>01-09-2022</td>\n",
       "      <td>Alasa</td>\n",
       "    </tr>\n",
       "    <tr>\n",
       "      <th>3</th>\n",
       "      <td>31-08-2022</td>\n",
       "      <td>EL</td>\n",
       "    </tr>\n",
       "    <tr>\n",
       "      <th>4</th>\n",
       "      <td>29-08-2022</td>\n",
       "      <td>Michael</td>\n",
       "    </tr>\n",
       "    <tr>\n",
       "      <th>...</th>\n",
       "      <td>...</td>\n",
       "      <td>...</td>\n",
       "    </tr>\n",
       "    <tr>\n",
       "      <th>631</th>\n",
       "      <td>13-09-2021</td>\n",
       "      <td>Odunayo</td>\n",
       "    </tr>\n",
       "    <tr>\n",
       "      <th>632</th>\n",
       "      <td>12-09-2021</td>\n",
       "      <td>Ayomide</td>\n",
       "    </tr>\n",
       "    <tr>\n",
       "      <th>633</th>\n",
       "      <td>12-09-2021</td>\n",
       "      <td>Hammed</td>\n",
       "    </tr>\n",
       "    <tr>\n",
       "      <th>634</th>\n",
       "      <td>11-09-2021</td>\n",
       "      <td>EL</td>\n",
       "    </tr>\n",
       "    <tr>\n",
       "      <th>635</th>\n",
       "      <td>11-09-2021</td>\n",
       "      <td>Olawumi</td>\n",
       "    </tr>\n",
       "  </tbody>\n",
       "</table>\n",
       "<p>636 rows × 2 columns</p>\n",
       "</div>"
      ],
      "text/plain": [
       "           Date      Name\n",
       "0    02-09-2022   Gabriel\n",
       "1    01-09-2022  Olaoluwa\n",
       "2    01-09-2022     Alasa\n",
       "3    31-08-2022        EL\n",
       "4    29-08-2022   Michael\n",
       "..          ...       ...\n",
       "631  13-09-2021   Odunayo\n",
       "632  12-09-2021   Ayomide\n",
       "633  12-09-2021    Hammed\n",
       "634  11-09-2021        EL\n",
       "635  11-09-2021   Olawumi\n",
       "\n",
       "[636 rows x 2 columns]"
      ]
     },
     "execution_count": 23,
     "metadata": {},
     "output_type": "execute_result"
    }
   ],
   "source": [
    "jumia_data_df3[['Date','Name']]"
   ]
  },
  {
   "cell_type": "markdown",
   "metadata": {},
   "source": [
    "By @JonDeBosco (LinkedIn)"
   ]
  }
 ],
 "metadata": {
  "kernelspec": {
   "display_name": "Python 3 (ipykernel)",
   "language": "python",
   "name": "python3"
  },
  "language_info": {
   "codemirror_mode": {
    "name": "ipython",
    "version": 3
   },
   "file_extension": ".py",
   "mimetype": "text/x-python",
   "name": "python",
   "nbconvert_exporter": "python",
   "pygments_lexer": "ipython3",
   "version": "3.8.15"
  },
  "vscode": {
   "interpreter": {
    "hash": "17d203b3035f27d34dcdc2437cbe7b635f83afb10f90c418367e6fba7ea27f11"
   }
  }
 },
 "nbformat": 4,
 "nbformat_minor": 2
}
